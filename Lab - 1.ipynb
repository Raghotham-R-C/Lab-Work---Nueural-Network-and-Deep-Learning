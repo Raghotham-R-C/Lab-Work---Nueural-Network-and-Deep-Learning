{
 "cells": [
  {
   "cell_type": "markdown",
   "id": "c027469a",
   "metadata": {},
   "source": [
    "# Lab - 1\n",
    "\n",
    "## Raghotham R C - 2348141\n",
    "\n",
    "### IMPLEMENT PERCEPTRON with different ACTIVATION FUNCTIONS using Python."
   ]
  },
  {
   "cell_type": "code",
   "execution_count": 3,
   "id": "98fc7a84",
   "metadata": {},
   "outputs": [],
   "source": [
    "import numpy as np\n",
    "\n",
    "def linear(x):\n",
    "    return x\n",
    "\n",
    "def bipolar(x):\n",
    "    return 1 if x >= 0 else -1\n",
    "\n",
    "def step(x):\n",
    "    return 1 if x >= 0 else 0\n",
    "\n",
    "def perceptronModel(x, w, b, activation):\n",
    "    v = np.dot(w, x) + b\n",
    "    if activation == 'linear':\n",
    "        y = linear(v)\n",
    "    elif activation == 'bipolar':\n",
    "        y = bipolar(v)\n",
    "    elif activation == 'step':\n",
    "        y = step(v)\n",
    "    else:\n",
    "        raise ValueError('Unknown activation function')\n",
    "    return y"
   ]
  },
  {
   "cell_type": "code",
   "execution_count": 5,
   "id": "5a269b34",
   "metadata": {},
   "outputs": [],
   "source": [
    "w = np.array([1, 1])\n",
    "b = -1.5"
   ]
  },
  {
   "cell_type": "code",
   "execution_count": 7,
   "id": "4d19d591",
   "metadata": {},
   "outputs": [
    {
     "name": "stdout",
     "output_type": "stream",
     "text": [
      "Linear: 0.5\n",
      "Linear: -0.5\n",
      "Linear: -0.5\n",
      "Linear: -1.5\n"
     ]
    }
   ],
   "source": [
    "# testing the Perceptron Model for linear Activation Function\n",
    "test1 = np.array([1, 1])\n",
    "test2 = np.array([1, 0])\n",
    "test3 = np.array([0, 1])\n",
    "test4 = np.array([0, 0])\n",
    "\n",
    "print(\"Linear:\", perceptronModel(test1, w, b, 'linear'))\n",
    "print(\"Linear:\", perceptronModel(test2, w, b, 'linear'))\n",
    "print(\"Linear:\", perceptronModel(test3, w, b, 'linear'))\n",
    "print(\"Linear:\", perceptronModel(test4, w, b, 'linear'))\n"
   ]
  },
  {
   "cell_type": "code",
   "execution_count": 15,
   "id": "2f4a2a51",
   "metadata": {},
   "outputs": [
    {
     "name": "stdout",
     "output_type": "stream",
     "text": [
      "Bipolar: 1\n",
      "Bipolar: -1\n",
      "Bipolar: -1\n",
      "Bipolar: -1\n"
     ]
    }
   ],
   "source": [
    "# testing the Perceptron Model for bipolar Activation Function\n",
    "test1 = np.array([1, 1])\n",
    "test2 = np.array([1, 0])\n",
    "test3 = np.array([0, 1])\n",
    "test4 = np.array([0, 0])\n",
    "\n",
    "\n",
    "print(\"Bipolar:\", perceptronModel(test1, w, b, 'bipolar'))\n",
    "print(\"Bipolar:\", perceptronModel(test2, w, b, 'bipolar'))\n",
    "print(\"Bipolar:\", perceptronModel(test3, w, b, 'bipolar'))\n",
    "print(\"Bipolar:\", perceptronModel(test4, w, b, 'bipolar'))"
   ]
  },
  {
   "cell_type": "code",
   "execution_count": 16,
   "id": "339100f6",
   "metadata": {},
   "outputs": [
    {
     "name": "stdout",
     "output_type": "stream",
     "text": [
      "Step: 1\n",
      "Step: 0\n",
      "Step: 0\n",
      "Step: 0\n"
     ]
    }
   ],
   "source": [
    "# testing the Perceptron Model for bipolar Activation Function\n",
    "test1 = np.array([1, 1])\n",
    "test2 = np.array([1, 0])\n",
    "test3 = np.array([0, 1])\n",
    "test4 = np.array([0, 0])\n",
    "\n",
    "\n",
    "print(\"Step:\", perceptronModel(test1, w, b, 'step'))\n",
    "print(\"Step:\", perceptronModel(test2, w, b, 'step'))\n",
    "print(\"Step:\", perceptronModel(test3, w, b, 'step'))\n",
    "print(\"Step:\", perceptronModel(test4, w, b, 'step'))"
   ]
  },
  {
   "cell_type": "markdown",
   "id": "8cc66936",
   "metadata": {},
   "source": [
    "#### Conclusion\n",
    "In this lab, we implemented a Perceptron model with three different activation functions: linear, bipolar, and step. Here are the conclusions\n",
    "1. Linear Activation function:\n",
    "The linear activation function is straightforward but does not provide any form of thresholding. It is useful for regression tasks where the output is not binary.\n",
    "2. Bipolar Activation Function:\n",
    "The bipolar activation function introduces a binary threshold, making it suitable for binary classification tasks where outputs are either 1 or -1.\n",
    "3. Step Activation Function:\n",
    "The step activation function is similar to the bipolar function but outputs 0 instead of -1 for negative values. It is also suitable for binary classification tasks but provides outputs in the range of 0 and 1.\n",
    "\n",
    "Conclusively, we can say that the linear function is suitable for continuous outputs, while the bipolar and step functions are better suited for binary classification tasks, with the main difference being the range of their outputs."
   ]
  }
 ],
 "metadata": {
  "kernelspec": {
   "display_name": "Python 3 (ipykernel)",
   "language": "python",
   "name": "python3"
  },
  "language_info": {
   "codemirror_mode": {
    "name": "ipython",
    "version": 3
   },
   "file_extension": ".py",
   "mimetype": "text/x-python",
   "name": "python",
   "nbconvert_exporter": "python",
   "pygments_lexer": "ipython3",
   "version": "3.11.5"
  }
 },
 "nbformat": 4,
 "nbformat_minor": 5
}
