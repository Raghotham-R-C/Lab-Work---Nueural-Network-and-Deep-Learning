{
 "cells": [
  {
   "cell_type": "markdown",
   "id": "f0f010f5",
   "metadata": {},
   "source": [
    "# Lab - 2\n",
    "\n",
    "## Raghotham R C - 2348141\n",
    "\n",
    "### Implementation of AND and OR gates with Bipolar Inputs"
   ]
  },
  {
   "cell_type": "code",
   "execution_count": 3,
   "id": "94050b0a",
   "metadata": {},
   "outputs": [
    {
     "name": "stdout",
     "output_type": "stream",
     "text": [
      "AND(1, 1) = 1\n",
      "AND(1, -1) = -1\n",
      "AND(-1, 1) = -1\n",
      "AND(-1, -1) = -1\n"
     ]
    }
   ],
   "source": [
    "# importing Python library\n",
    "import numpy as np\n",
    "\n",
    "# define Biploar Function\n",
    "def bipolar(v):\n",
    "  if v >= 0:\n",
    "    return 1\n",
    "  else:\n",
    "    return -1\n",
    "\n",
    "# design Perceptron Model\n",
    "def perceptronModel(x, w, b):\n",
    "  v = np.dot(w, x) + b\n",
    "  y = bipolar(v)\n",
    "  return y\n",
    "\n",
    "# AND Logic Function\n",
    "# w1 = 1, w2 = 1, b = -1.5\n",
    "def AND_logicFunction(x):\n",
    "  w = np.array([1, 1])\n",
    "  b = -1.5\n",
    "  return perceptronModel(x, w, b)\n",
    "\n",
    "# testing the Perceptron Model\n",
    "test1 = np.array([1, 1])\n",
    "test2 = np.array([1, -1])\n",
    "test3 = np.array([-1, 1])\n",
    "test4 = np.array([-1, -1])\n",
    "\n",
    "print(\"AND({}, {}) = {}\".format(1, 1, AND_logicFunction(test1)))\n",
    "print(\"AND({}, {}) = {}\".format(1, -1, AND_logicFunction(test2)))\n",
    "print(\"AND({}, {}) = {}\".format(-1, 1, AND_logicFunction(test3)))\n",
    "print(\"AND({}, {}) = {}\".format(-1, -1, AND_logicFunction(test4)))\n"
   ]
  },
  {
   "cell_type": "code",
   "execution_count": 5,
   "id": "8d791427",
   "metadata": {},
   "outputs": [
    {
     "name": "stdout",
     "output_type": "stream",
     "text": [
      "OR(1, 1) = 1\n",
      "OR(1, -1) = 1\n",
      "OR(-1, 1) = 1\n",
      "OR(-1, -1) = -1\n"
     ]
    }
   ],
   "source": [
    "# importing Python library\n",
    "import numpy as np\n",
    "\n",
    "# define Bipolar Function\n",
    "def bipolar(v):\n",
    "  if v >= 0:\n",
    "    return 1\n",
    "  else:\n",
    "    return -1\n",
    "\n",
    "# design Perceptron Model\n",
    "def perceptronModel(x, w, b):\n",
    "  v = np.dot(w, x) + b\n",
    "  y = bipolar(v)\n",
    "  return y\n",
    "\n",
    "# OR Logic Function\n",
    "# w1 = 1, w2 = 1, b = 0.5\n",
    "def OR_logicFunction(x):\n",
    "  w = np.array([1, 1])\n",
    "  b = 0.5\n",
    "  return perceptronModel(x, w, b)\n",
    "\n",
    "# testing the Perceptron Model\n",
    "test5 = np.array([1, 1])\n",
    "test6 = np.array([1, -1])\n",
    "test7 = np.array([-1, 1])\n",
    "test8 = np.array([-1, -1])\n",
    "\n",
    "print(\"OR({}, {}) = {}\".format(1, 1, OR_logicFunction(test5)))\n",
    "print(\"OR({}, {}) = {}\".format(1, -1, OR_logicFunction(test6)))\n",
    "print(\"OR({}, {}) = {}\".format(-1, 1, OR_logicFunction(test7)))\n",
    "print(\"OR({}, {}) = {}\".format(-1, -1, OR_logicFunction(test8)))\n"
   ]
  },
  {
   "cell_type": "markdown",
   "id": "456c295a",
   "metadata": {},
   "source": [
    "#### Conclusion\n",
    "In this lab, We see the implementation of AND and OR gates using a perceptron model with bipolar inputs and outputs. Here are the conclusions\n",
    "1. The bipolar function converts the perceptron's output into a bipolar form, returning 1 for inputs greater than or equal to zero and -1 otherwise.\n",
    "\n",
    "2. The perceptron model computes the weighted sum of the inputs and adds a bias. The result is then passed through the bipolar activation function.\n",
    "\n",
    "3. We defined the weights and bias for the AND function as w = [1,1] and b = -1.5. With this the perceptron successfully modeled the AND gate, outputting 1 only when both inputs are 1 and others as -1.\n",
    "\n",
    "4. We defined the weights and bias for the OR function as w = [1,1] and b = 0.5. With this the perceptron successfully modeled the OR gate, outputting 1 when at least one input is 1 and others as -1.\n",
    "\n",
    "Conclusively, from the above implementation we can say that the test results align with the expected behavior of AND and OR gates with bipolar inputs. The AND gate outputs 1 only when both inputs are 1, and the OR gate outputs 1 when at least one input is 1."
   ]
  }
 ],
 "metadata": {
  "kernelspec": {
   "display_name": "Python 3 (ipykernel)",
   "language": "python",
   "name": "python3"
  },
  "language_info": {
   "codemirror_mode": {
    "name": "ipython",
    "version": 3
   },
   "file_extension": ".py",
   "mimetype": "text/x-python",
   "name": "python",
   "nbconvert_exporter": "python",
   "pygments_lexer": "ipython3",
   "version": "3.11.5"
  }
 },
 "nbformat": 4,
 "nbformat_minor": 5
}
