{
 "cells": [
  {
   "cell_type": "markdown",
   "id": "91f06e4f",
   "metadata": {},
   "source": [
    "# Lab - 3\n",
    "\n",
    "## Raghotham R C - 2348141\n",
    "\n",
    "### 1. Apply a binary classifier using a dataset\n",
    "### 2. Apply MLP to Implement XOR"
   ]
  },
  {
   "cell_type": "code",
   "execution_count": 7,
   "id": "dee77b7e",
   "metadata": {},
   "outputs": [
    {
     "name": "stdout",
     "output_type": "stream",
     "text": [
      "Accuracy: 1.0\n",
      "Confusion Matrix:\n",
      "[[13  0]\n",
      " [ 0 13]]\n",
      "Classification Report:\n",
      "              precision    recall  f1-score   support\n",
      "\n",
      "           0       1.00      1.00      1.00        13\n",
      "           1       1.00      1.00      1.00        13\n",
      "\n",
      "    accuracy                           1.00        26\n",
      "   macro avg       1.00      1.00      1.00        26\n",
      "weighted avg       1.00      1.00      1.00        26\n",
      "\n"
     ]
    },
    {
     "data": {
      "image/png": "[encoded data removed]",
      "text/plain": [
       "<Figure size 640x480 with 2 Axes>"
      ]
     },
     "metadata": {},
     "output_type": "display_data"
    }
   ],
   "source": [
    "from sklearn.datasets import load_wine\n",
    "from sklearn.model_selection import train_test_split\n",
    "from sklearn.preprocessing import StandardScaler\n",
    "from sklearn.linear_model import LogisticRegression\n",
    "from sklearn.metrics import accuracy_score, confusion_matrix, classification_report\n",
    "import matplotlib.pyplot as plt\n",
    "import seaborn as sns\n",
    "\n",
    "# Load the dataset\n",
    "data = load_wine()\n",
    "X = data.data\n",
    "y = data.target\n",
    "X = X[y != 2]\n",
    "y = y[y != 2]\n",
    "\n",
    "\n",
    "# Standardize the features\n",
    "scaler = StandardScaler()\n",
    "X_scaled = scaler.fit_transform(X)\n",
    "\n",
    "# Split the data into training and testing sets\n",
    "X_train, X_test, y_train, y_test = train_test_split(X_scaled, y, test_size=0.2, random_state=42)\n",
    "\n",
    "# Train the binary classifier\n",
    "classifier = LogisticRegression(random_state=42)\n",
    "classifier.fit(X_train, y_train)\n",
    "\n",
    "# Predict on the test set\n",
    "y_pred = classifier.predict(X_test)\n",
    "\n",
    "# Evaluate the model\n",
    "accuracy = accuracy_score(y_test, y_pred)\n",
    "conf_matrix = confusion_matrix(y_test, y_pred)\n",
    "class_report = classification_report(y_test, y_pred)\n",
    "\n",
    "# Display the results\n",
    "print(f\"Accuracy: {accuracy}\")\n",
    "print(\"Confusion Matrix:\")\n",
    "print(conf_matrix)\n",
    "print(\"Classification Report:\")\n",
    "print(class_report)\n",
    "\n",
    "# Visualize the confusion matrix\n",
    "sns.heatmap(conf_matrix, annot=True, fmt='d', cmap='Blues', xticklabels=data.target_names, yticklabels=data.target_names)\n",
    "plt.xlabel('Predicted')\n",
    "plt.ylabel('Actual')\n",
    "plt.title('Confusion Matrix')\n",
    "plt.show()\n"
   ]
  },
  {
   "cell_type": "code",
   "execution_count": 8,
   "id": "e9b355a0",
   "metadata": {},
   "outputs": [
    {
     "name": "stdout",
     "output_type": "stream",
     "text": [
      "Accuracy: 1.0\n",
      "Predictions:\n",
      "Input: [0 0], Predicted: 0, Actual: 0\n",
      "Input: [0 1], Predicted: 1, Actual: 1\n",
      "Input: [1 0], Predicted: 1, Actual: 1\n",
      "Input: [1 1], Predicted: 0, Actual: 0\n"
     ]
    }
   ],
   "source": [
    "import numpy as np\n",
    "from sklearn.neural_network import MLPClassifier\n",
    "from sklearn.metrics import accuracy_score\n",
    "\n",
    "# Generate XOR data\n",
    "X = np.array([[0, 0], [0, 1], [1, 0], [1, 1]])\n",
    "y = np.array([0, 1, 1, 0])\n",
    "\n",
    "# Define the MLP\n",
    "mlp = MLPClassifier(hidden_layer_sizes=(10,), activation='tanh', max_iter=10000, random_state=42)\n",
    "\n",
    "# Train the MLP\n",
    "mlp.fit(X, y)\n",
    "\n",
    "# Predict on the XOR data\n",
    "y_pred = mlp.predict(X)\n",
    "\n",
    "# Evaluate the MLP\n",
    "accuracy = accuracy_score(y, y_pred)\n",
    "\n",
    "# Display the results\n",
    "print(f\"Accuracy: {accuracy}\")\n",
    "print(\"Predictions:\")\n",
    "for i in range(len(X)):\n",
    "    print(f\"Input: {X[i]}, Predicted: {y_pred[i]}, Actual: {y[i]}\")"
   ]
  },
  {
   "cell_type": "markdown",
   "id": "4c0c0fcf",
   "metadata": {},
   "source": [
    "### Conclusion : \n",
    "\n",
    "#### Binary Classifier\n",
    "\n",
    "We applied a binary classifier using the Wine dataset. By filtering the dataset to include only two classes, standardizing the features, and splitting the data into training and testing sets, we trained a Logistic Regression model. The model achieved an impressive accuracy of 100% on the test set. The confusion matrix and classification report confirmed the model's perfect performance, with all predictions being correct.\n",
    "\n",
    "#### Multi-Layer Perceptron (MLP) for XOR Implementation\n",
    "We then implemented a Multi-Layer Perceptron (MLP) to solve the XOR problem, a classic problem that demonstrates the capability of neural networks to handle non-linearly separable data. The MLP was configured with one hidden layer of 10 neurons and trained until convergence. The model also achieved a perfect accuracy of 100%, correctly predicting the XOR outputs for all test cases.\n",
    "\n",
    "\n",
    "Both models demonstrated excellent performance, with the Logistic Regression model perfectly classifying the wine data and the MLP accurately solving the XOR problem. These results highlight the effectiveness of these machine learning techniques for binary classification tasks and nonlinear problems, respectively."
   ]
  }
 ],
 "metadata": {
  "kernelspec": {
   "display_name": "Python 3 (ipykernel)",
   "language": "python",
   "name": "python3"
  },
  "language_info": {
   "codemirror_mode": {
    "name": "ipython",
    "version": 3
   },
   "file_extension": ".py",
   "mimetype": "text/x-python",
   "name": "python",
   "nbconvert_exporter": "python",
   "pygments_lexer": "ipython3",
   "version": "3.11.5"
  }
 },
 "nbformat": 4,
 "nbformat_minor": 5
}
